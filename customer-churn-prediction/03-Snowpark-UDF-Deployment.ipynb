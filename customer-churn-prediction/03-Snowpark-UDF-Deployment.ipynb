{
 "cells": [
  {
   "cell_type": "markdown",
   "id": "74fa8f0e",
   "metadata": {},
   "source": [
    "# Customer churn analysis\n",
    "\n",
    "\n",
    "# Machine Learning Pipeline\n",
    "\n",
    "In the following notebooks, we will go through the implementation of each one of the steps in the Machine Learning Pipeline. \n",
    "\n",
    "We will discuss:\n",
    "\n",
    "1. Data Preparation and Analysis\n",
    "2. **Feature Engineering**\n",
    "3. **Feature Selection**\n",
    "4. **Model Training**\n",
    "5. **Obtaining Predictions / Scoring**"
   ]
  },
  {
   "cell_type": "code",
   "execution_count": 1,
   "id": "ae7750a0",
   "metadata": {},
   "outputs": [
    {
     "name": "stderr",
     "output_type": "stream",
     "text": [
      "/Users/andersolson/opt/anaconda3/envs/getting_started_snowpark_python/lib/python3.8/site-packages/scipy/__init__.py:146: UserWarning: A NumPy version >=1.16.5 and <1.23.0 is required for this version of SciPy (detected version 1.23.1\n",
      "  warnings.warn(f\"A NumPy version >={np_minversion} and <{np_maxversion}\"\n"
     ]
    }
   ],
   "source": [
    "from snowflake.snowpark.session import Session\n",
    "from snowflake.snowpark import functions as F\n",
    "from snowflake.snowpark.types import *\n",
    "import pandas as pd\n",
    "from sklearn import linear_model\n",
    "import matplotlib.pyplot as plt\n",
    "from snowflake.snowpark.functions import udf\n",
    "%matplotlib inline\n",
    "import datetime as dt\n",
    "import numpy as np\n",
    "import seaborn as sns\n",
    "\n",
    "# to divide train and test set\n",
    "from sklearn.model_selection import train_test_split\n",
    "\n",
    "# feature scaling\n",
    "from sklearn.preprocessing import MinMaxScaler\n",
    "\n",
    "# to save the trained scaler class\n",
    "import joblib"
   ]
  },
  {
   "cell_type": "code",
   "execution_count": 2,
   "id": "9bb1d0a1",
   "metadata": {},
   "outputs": [
    {
     "name": "stdout",
     "output_type": "stream",
     "text": [
      "(0, 7, 0)\n",
      "[Row(CURRENT_WAREHOUSE()='SP_QS_WH', CURRENT_DATABASE()='SNOWPARK_QUICKSTART', CURRENT_SCHEMA()='TELCO')]\n"
     ]
    }
   ],
   "source": [
    "#Snowflake connection info\n",
    "from config import snowflake_conn_prop\n",
    "from snowflake.snowpark import version\n",
    "print(version.VERSION)\n",
    "\n",
    "session = Session.builder.configs(snowflake_conn_prop).create()\n",
    "print(session.sql('select current_warehouse(), current_database(), current_schema()').collect())"
   ]
  },
  {
   "cell_type": "code",
   "execution_count": 3,
   "id": "f5be4ffa",
   "metadata": {},
   "outputs": [
    {
     "name": "stdout",
     "output_type": "stream",
     "text": [
      "CPU times: user 732 ms, sys: 50.6 ms, total: 782 ms\n",
      "Wall time: 4.48 s\n"
     ]
    }
   ],
   "source": [
    "%%time\n",
    "raw = session.table('TRAIN_DATASET').sample(n = 40000)\n",
    "data = raw.toPandas()"
   ]
  },
  {
   "cell_type": "code",
   "execution_count": 4,
   "id": "81258f04",
   "metadata": {},
   "outputs": [
    {
     "data": {
      "text/plain": [
       "(40000, 22)"
      ]
     },
     "execution_count": 4,
     "metadata": {},
     "output_type": "execute_result"
    }
   ],
   "source": [
    "data.shape"
   ]
  },
  {
   "cell_type": "markdown",
   "id": "b22f4f5d",
   "metadata": {},
   "source": [
    "# Separate dataset into train and test\n",
    "\n",
    "It is important to separate our data intro training and testing set. \n",
    "\n",
    "When we engineer features, some techniques learn parameters from data. It is important to learn these parameters only from the train set. This is to avoid over-fitting."
   ]
  },
  {
   "cell_type": "code",
   "execution_count": 5,
   "id": "334e90ed",
   "metadata": {},
   "outputs": [
    {
     "data": {
      "text/plain": [
       "((32000, 20), (8000, 20))"
      ]
     },
     "execution_count": 5,
     "metadata": {},
     "output_type": "execute_result"
    }
   ],
   "source": [
    "# Let's separate into train and test set\n",
    "# Remember to set the seed (random_state for this sklearn function)\n",
    "\n",
    "# to divide train and test set\n",
    "from sklearn.model_selection import train_test_split\n",
    "\n",
    "X_train, X_test, y_train, y_test = train_test_split(\n",
    "    data.drop(columns=['CHURNVALUE','CUSTOMERID'], axis=1), # predictive variables\n",
    "    data['CHURNVALUE'], # target\n",
    "    test_size=0.2, # portion of dataset to allocate to test set\n",
    "    random_state=0, # we are setting the seed here\n",
    ")\n",
    "\n",
    "X_train.shape, X_test.shape\n"
   ]
  },
  {
   "cell_type": "markdown",
   "id": "c47f9d84",
   "metadata": {},
   "source": [
    "## let's identify the different variables"
   ]
  },
  {
   "cell_type": "code",
   "execution_count": 6,
   "id": "ecff006e",
   "metadata": {},
   "outputs": [
    {
     "name": "stdout",
     "output_type": "stream",
     "text": [
      "['GENDER', 'SENIORCITIZEN', 'PARTNER', 'DEPENDENTS', 'PHONESERVICE', 'MULTIPLELINES', 'INTERNETSERVICE', 'ONLINESECURITY', 'ONLINEBACKUP', 'DEVICEPROTECTION', 'TECHSUPPORT', 'STREAMINGTV', 'STREAMINGMOVIES', 'CONTRACT', 'PAPERLESSBILLING', 'PAYMENTMETHOD', 'TENUREMONTHS', 'MONTHLYCHARGES', 'TOTALCHARGES']\n"
     ]
    }
   ],
   "source": [
    "# Since we already cleaned up the data using snowpark, identifying variable is super easy\n",
    "\n",
    "# we will capture those of type *object*\n",
    "\n",
    "cat_vars = ['GENDER', 'SENIORCITIZEN', 'PARTNER', 'DEPENDENTS', 'PHONESERVICE', 'MULTIPLELINES', 'INTERNETSERVICE',\n",
    "            'ONLINESECURITY', 'ONLINEBACKUP', 'DEVICEPROTECTION', 'TECHSUPPORT', 'STREAMINGTV', 'STREAMINGMOVIES',\n",
    "            'CONTRACT', 'PAPERLESSBILLING', 'PAYMENTMETHOD']\n",
    "\n",
    "# we will capture those of type numerical from previous notebook\n",
    "num_vars = [ 'TENUREMONTHS', 'MONTHLYCHARGES', 'TOTALCHARGES']\n",
    "\n",
    "features = cat_vars + num_vars\n",
    "print(features)"
   ]
  },
  {
   "cell_type": "markdown",
   "id": "5024540b",
   "metadata": {},
   "source": [
    "## Numerical variable transformation\n",
    "\n",
    "In the previous notebook, we observed that the numerical variables are not normally distributed.\n",
    "\n",
    "We will transform with the MinMaxScaler in order to get a more Gaussian-like distribution. Use ordinal encoding for the categorical variables and check for nulls\n"
   ]
  },
  {
   "cell_type": "code",
   "execution_count": 7,
   "id": "367b0c14",
   "metadata": {},
   "outputs": [
    {
     "data": {
      "text/plain": [
       "[]"
      ]
     },
     "execution_count": 7,
     "metadata": {},
     "output_type": "execute_result"
    }
   ],
   "source": [
    "# check absence of na in the train set\n",
    "[var for var in X_train.columns if X_train[var].isnull().sum() > 0]\n",
    "\n",
    "# check absence of na in the test set\n",
    "[var for var in X_test.columns if X_test[var].isnull().sum() > 0]"
   ]
  },
  {
   "cell_type": "code",
   "execution_count": 8,
   "id": "38f72712",
   "metadata": {},
   "outputs": [
    {
     "data": {
      "text/plain": [
       "Pipeline(steps=[('pipeline-1',\n",
       "                 Pipeline(steps=[('functiontransformer',\n",
       "                                  FunctionTransformer(func=<function <lambda> at 0x7fcaa864e820>)),\n",
       "                                 ('ordinalencoder',\n",
       "                                  OrdinalEncoder(handle_unknown='use_encoded_value',\n",
       "                                                 unknown_value=-1))])),\n",
       "                ('pipeline-2',\n",
       "                 Pipeline(steps=[('simpleimputer',\n",
       "                                  SimpleImputer(fill_value=0,\n",
       "                                                strategy='constant')),\n",
       "                                 ('minmaxscaler', MinMaxScaler())])),\n",
       "                ('pipeline-3',\n",
       "                 Pipeline(steps=[('randomforestclassifier',\n",
       "                                  RandomForestClassifier(n_jobs=-1,\n",
       "                                                         random_state=0))]))])"
      ]
     },
     "execution_count": 8,
     "metadata": {},
     "output_type": "execute_result"
    }
   ],
   "source": [
    "# setup pipeline\n",
    "\n",
    "#transformations\n",
    "from sklearn.preprocessing import OrdinalEncoder\n",
    "from sklearn.impute import SimpleImputer\n",
    "from sklearn.preprocessing import MinMaxScaler\n",
    "from sklearn.preprocessing import FunctionTransformer\n",
    "\n",
    "#Classifier\n",
    "from sklearn.ensemble import RandomForestClassifier\n",
    "\n",
    "#Pipeline\n",
    "from sklearn.pipeline import make_pipeline\n",
    "from sklearn.model_selection import train_test_split\n",
    "\n",
    "#Model Accuracy\n",
    "from sklearn.metrics import balanced_accuracy_score\n",
    "\n",
    "# Model Pipeline\n",
    "ord_pipe = make_pipeline(\n",
    "    FunctionTransformer(lambda x: x.astype(str)) ,\n",
    "    OrdinalEncoder(handle_unknown='use_encoded_value', unknown_value=-1)\n",
    "    )\n",
    "\n",
    "num_pipe = make_pipeline(\n",
    "    SimpleImputer(missing_values=np.nan, strategy='constant', fill_value=0),\n",
    "    MinMaxScaler()\n",
    "    )\n",
    "\n",
    "clf = make_pipeline(RandomForestClassifier(random_state=0, n_jobs=-1))\n",
    "\n",
    "model = make_pipeline(ord_pipe, num_pipe, clf)\n",
    "\n",
    "# fit the model\n",
    "model.fit(X_train, y_train)"
   ]
  },
  {
   "cell_type": "markdown",
   "id": "d6b432a7",
   "metadata": {},
   "source": [
    "## Check Accuracy of our model on test dataset"
   ]
  },
  {
   "cell_type": "code",
   "execution_count": 9,
   "id": "b12f1d34",
   "metadata": {},
   "outputs": [
    {
     "name": "stdout",
     "output_type": "stream",
     "text": [
      "Model testing completed.\n",
      "   - Model Balanced Accuracy: 99.64%\n"
     ]
    }
   ],
   "source": [
    "y_pred = model.predict_proba(X_test)[:,1]\n",
    "predictions = [round(value) for value in y_pred]\n",
    "balanced_accuracy = balanced_accuracy_score(y_test, predictions)\n",
    "print(\"Model testing completed.\\n   - Model Balanced Accuracy: %.2f%%\" % (balanced_accuracy * 100.0))"
   ]
  },
  {
   "cell_type": "markdown",
   "id": "6a2d32c9",
   "metadata": {},
   "source": [
    "## Confusion Matrix"
   ]
  },
  {
   "cell_type": "code",
   "execution_count": 10,
   "id": "57a285b9",
   "metadata": {},
   "outputs": [
    {
     "name": "stdout",
     "output_type": "stream",
     "text": [
      "True Positive(TP)  =  2610\n",
      "False Positive(FP) =  22\n",
      "True Negative(TN)  =  5360\n",
      "False Negative(FN) =  8\n",
      "Accuracy of the classification = 0.996\n"
     ]
    }
   ],
   "source": [
    "#Confusion Matrix\n",
    "\n",
    "from sklearn.metrics import confusion_matrix\n",
    "\n",
    "cm = confusion_matrix(y_test, predictions)\n",
    "\n",
    "TN, FP, FN, TP = confusion_matrix(y_test, predictions).ravel()\n",
    "\n",
    "print('True Positive(TP)  = ', TP)\n",
    "print('False Positive(FP) = ', FP)\n",
    "print('True Negative(TN)  = ', TN)\n",
    "print('False Negative(FN) = ', FN)\n",
    "\n",
    "accuracy =  (TP+TN) /(TP+FP+TN+FN)\n",
    "\n",
    "print('Accuracy of the classification = {:0.3f}'.format(accuracy))"
   ]
  },
  {
   "cell_type": "markdown",
   "id": "eeb1f017",
   "metadata": {},
   "source": [
    "## Check for important features"
   ]
  },
  {
   "cell_type": "code",
   "execution_count": 11,
   "id": "3a46e472",
   "metadata": {},
   "outputs": [
    {
     "data": {
      "text/plain": [
       "Text(0.5, 0, 'Feature Importance')"
      ]
     },
     "execution_count": 11,
     "metadata": {},
     "output_type": "execute_result"
    },
    {
     "data": {
      "image/png": "[encoded data removed]",
      "text/plain": [
       "<Figure size 432x288 with 1 Axes>"
      ]
     },
     "metadata": {
      "needs_background": "light"
     },
     "output_type": "display_data"
    }
   ],
   "source": [
    "# Feature importance\n",
    "from sklearn.inspection import permutation_importance\n",
    "perm_importance = permutation_importance(model, X_test, y_test)\n",
    "sorted_idx = perm_importance.importances_mean.argsort()\n",
    "plt.barh(np.array(X_test.columns)[sorted_idx], perm_importance.importances_mean[sorted_idx])\n",
    "plt.xlabel(\"Feature Importance\")"
   ]
  },
  {
   "cell_type": "markdown",
   "id": "f3591ea2",
   "metadata": {},
   "source": [
    "## Prepare for model deployment in Snowflake using Snowpark Python UDF"
   ]
  },
  {
   "cell_type": "code",
   "execution_count": 12,
   "id": "b74e298e",
   "metadata": {},
   "outputs": [
    {
     "name": "stdout",
     "output_type": "stream",
     "text": [
      "[Row(status='Stage area MODELSTAGE successfully created.')]\n"
     ]
    }
   ],
   "source": [
    "#Let's first create a stage to store the artifacts\n",
    "print(session.sql('create stage if not exists MODELSTAGE').collect())"
   ]
  },
  {
   "cell_type": "markdown",
   "id": "cc12ce00",
   "metadata": {},
   "source": [
    "### We will define a snopark python UDF to help us score the live data using the model that we built earlier. \n",
    "\n",
    "Since we have fitted the model with the scikit learn pipeline, our UDF will do the transformations and also score the new data"
   ]
  },
  {
   "cell_type": "code",
   "execution_count": 13,
   "id": "31318a4d",
   "metadata": {},
   "outputs": [
    {
     "name": "stdout",
     "output_type": "stream",
     "text": [
      "CPU times: user 1.18 s, sys: 133 ms, total: 1.31 s\n",
      "Wall time: 29.4 s\n"
     ]
    }
   ],
   "source": [
    "%%time\n",
    "\n",
    "features = list(X_train.columns)\n",
    "\n",
    "session.add_packages(\"scikit-learn==1.0.2\", \"pandas\", \"numpy\")\n",
    "\n",
    "@udf(name='predict_churn',is_permanent = True, stage_location = '@MODELSTAGE', replace=True)\n",
    "def predict_churn(args: list) -> float:\n",
    "    row = pd.DataFrame([args], columns=features)\n",
    "    return model.predict(row)\n",
    "\n"
   ]
  },
  {
   "cell_type": "code",
   "execution_count": 14,
   "id": "958c0fad",
   "metadata": {},
   "outputs": [],
   "source": [
    "new_df = session.table('TRAIN_DATASET').sample(n = 400)"
   ]
  },
  {
   "cell_type": "code",
   "execution_count": 15,
   "id": "324664c9",
   "metadata": {},
   "outputs": [
    {
     "name": "stdout",
     "output_type": "stream",
     "text": [
      "CPU times: user 7.7 ms, sys: 2.14 ms, total: 9.84 ms\n",
      "Wall time: 14.6 s\n"
     ]
    }
   ],
   "source": [
    "%%time\n",
    "new_df.select(new_df.CUSTOMERID,new_df.CHURNVALUE, \\\n",
    "              F.call_udf(\"predict_churn\", F.array_construct(*features)).alias('PREDICTED_CHURN')) \\\n",
    "        .write.mode('overwrite').saveAsTable('churn_detection')\n"
   ]
  },
  {
   "cell_type": "code",
   "execution_count": 16,
   "id": "f047ac5f",
   "metadata": {},
   "outputs": [
    {
     "data": {
      "text/html": [
       "<div>\n",
       "<style scoped>\n",
       "    .dataframe tbody tr th:only-of-type {\n",
       "        vertical-align: middle;\n",
       "    }\n",
       "\n",
       "    .dataframe tbody tr th {\n",
       "        vertical-align: top;\n",
       "    }\n",
       "\n",
       "    .dataframe thead th {\n",
       "        text-align: right;\n",
       "    }\n",
       "</style>\n",
       "<table border=\"1\" class=\"dataframe\">\n",
       "  <thead>\n",
       "    <tr style=\"text-align: right;\">\n",
       "      <th></th>\n",
       "      <th>CUSTOMERID</th>\n",
       "      <th>CHURNVALUE</th>\n",
       "      <th>PREDICTED_CHURN</th>\n",
       "    </tr>\n",
       "  </thead>\n",
       "  <tbody>\n",
       "    <tr>\n",
       "      <th>0</th>\n",
       "      <td>7973-xJ7jI</td>\n",
       "      <td>0.0</td>\n",
       "      <td>0.0</td>\n",
       "    </tr>\n",
       "    <tr>\n",
       "      <th>1</th>\n",
       "      <td>4723-q4tcZ</td>\n",
       "      <td>0.0</td>\n",
       "      <td>0.0</td>\n",
       "    </tr>\n",
       "    <tr>\n",
       "      <th>2</th>\n",
       "      <td>8565-OjNMX</td>\n",
       "      <td>0.0</td>\n",
       "      <td>0.0</td>\n",
       "    </tr>\n",
       "    <tr>\n",
       "      <th>3</th>\n",
       "      <td>4882-CuTA1</td>\n",
       "      <td>0.0</td>\n",
       "      <td>0.0</td>\n",
       "    </tr>\n",
       "    <tr>\n",
       "      <th>4</th>\n",
       "      <td>6703-0K4Hy</td>\n",
       "      <td>1.0</td>\n",
       "      <td>1.0</td>\n",
       "    </tr>\n",
       "    <tr>\n",
       "      <th>...</th>\n",
       "      <td>...</td>\n",
       "      <td>...</td>\n",
       "      <td>...</td>\n",
       "    </tr>\n",
       "    <tr>\n",
       "      <th>395</th>\n",
       "      <td>1999-IvpL1</td>\n",
       "      <td>0.0</td>\n",
       "      <td>0.0</td>\n",
       "    </tr>\n",
       "    <tr>\n",
       "      <th>396</th>\n",
       "      <td>3836-UDQiW</td>\n",
       "      <td>0.0</td>\n",
       "      <td>0.0</td>\n",
       "    </tr>\n",
       "    <tr>\n",
       "      <th>397</th>\n",
       "      <td>4188-0xmFe</td>\n",
       "      <td>0.0</td>\n",
       "      <td>0.0</td>\n",
       "    </tr>\n",
       "    <tr>\n",
       "      <th>398</th>\n",
       "      <td>9932-gWSp1</td>\n",
       "      <td>0.0</td>\n",
       "      <td>0.0</td>\n",
       "    </tr>\n",
       "    <tr>\n",
       "      <th>399</th>\n",
       "      <td>6643-Ceoaj</td>\n",
       "      <td>0.0</td>\n",
       "      <td>0.0</td>\n",
       "    </tr>\n",
       "  </tbody>\n",
       "</table>\n",
       "<p>400 rows × 3 columns</p>\n",
       "</div>"
      ],
      "text/plain": [
       "     CUSTOMERID  CHURNVALUE  PREDICTED_CHURN\n",
       "0    7973-xJ7jI         0.0              0.0\n",
       "1    4723-q4tcZ         0.0              0.0\n",
       "2    8565-OjNMX         0.0              0.0\n",
       "3    4882-CuTA1         0.0              0.0\n",
       "4    6703-0K4Hy         1.0              1.0\n",
       "..          ...         ...              ...\n",
       "395  1999-IvpL1         0.0              0.0\n",
       "396  3836-UDQiW         0.0              0.0\n",
       "397  4188-0xmFe         0.0              0.0\n",
       "398  9932-gWSp1         0.0              0.0\n",
       "399  6643-Ceoaj         0.0              0.0\n",
       "\n",
       "[400 rows x 3 columns]"
      ]
     },
     "execution_count": 16,
     "metadata": {},
     "output_type": "execute_result"
    }
   ],
   "source": [
    "session.table('churn_detection').toPandas()"
   ]
  },
  {
   "cell_type": "markdown",
   "id": "e90d3cf8",
   "metadata": {},
   "source": [
    "## Different Syntax to register the prediction UDF for deployment"
   ]
  },
  {
   "cell_type": "code",
   "execution_count": 17,
   "id": "c588427c",
   "metadata": {},
   "outputs": [
    {
     "name": "stdout",
     "output_type": "stream",
     "text": [
      "CPU times: user 1.15 s, sys: 70 ms, total: 1.22 s\n",
      "Wall time: 20.8 s\n"
     ]
    }
   ],
   "source": [
    "%%time\n",
    "session.add_packages(\"scikit-learn==1.0.2\", \"pandas\", \"numpy\")\n",
    "features = list(X_train.columns)\n",
    "predict_churn_model = session.udf.register(lambda *args: \n",
    "                                    model.predict(pd.DataFrame(args, columns=features)),\n",
    "                                    name=\"predict_churn_model\",\n",
    "                                    stage_location=\"@MODELSTAGE\",\n",
    "                                    return_type=FloatType(),\n",
    "                                    is_permanent=True,\n",
    "                                    replace=True,\n",
    "                                    input_types=[ArrayType()])"
   ]
  },
  {
   "cell_type": "markdown",
   "id": "d8e18b0f",
   "metadata": {},
   "source": [
    "## if we want to do the prediction using SQL"
   ]
  },
  {
   "cell_type": "code",
   "execution_count": 18,
   "id": "df775ab7",
   "metadata": {},
   "outputs": [
    {
     "name": "stdout",
     "output_type": "stream",
     "text": [
      "----------------------------------------------------\n",
      "|\"CUSTOMERID\"  |\"CHURNVALUE\"  |\"CHURN_PREDICTION\"  |\n",
      "----------------------------------------------------\n",
      "|7300-BV1Nq    |1.0           |1.0                 |\n",
      "|9063-p7tJa    |0.0           |1.0                 |\n",
      "|7222-fPUVI    |0.0           |0.0                 |\n",
      "|9496-CJ5YZ    |1.0           |1.0                 |\n",
      "|5585-Rk2RS    |1.0           |1.0                 |\n",
      "|5317-jdH9W    |0.0           |0.0                 |\n",
      "|1759-cYl7h    |0.0           |0.0                 |\n",
      "|4049-K0YX7    |0.0           |0.0                 |\n",
      "|3482-B9iMf    |0.0           |0.0                 |\n",
      "|9731-aZaEW    |0.0           |0.0                 |\n",
      "----------------------------------------------------\n",
      "\n",
      "CPU times: user 4.25 ms, sys: 1.65 ms, total: 5.9 ms\n",
      "Wall time: 3.96 s\n"
     ]
    }
   ],
   "source": [
    "%%time\n",
    "session.sql(' select customerid,churnvalue, \\\n",
    "            predict_churn(ARRAY_CONSTRUCT( \\\n",
    "                                    GENDER, \\\n",
    "                                    COUNT, \\\n",
    "                                    SENIORCITIZEN, \\\n",
    "                                    PARTNER, \\\n",
    "                                    DEPENDENTS, \\\n",
    "                                    PHONESERVICE, \\\n",
    "                                    MULTIPLELINES,  \\\n",
    "                                    INTERNETSERVICE,  \\\n",
    "                                    ONLINESECURITY,  \\\n",
    "                                    ONLINEBACKUP, \\\n",
    "                                    DEVICEPROTECTION,  \\\n",
    "                                    TECHSUPPORT,  \\\n",
    "                                    STREAMINGTV,  \\\n",
    "                                    STREAMINGMOVIES, \\\n",
    "                                    CONTRACT,  \\\n",
    "                                    PAPERLESSBILLING,  \\\n",
    "                                    PAYMENTMETHOD,  \\\n",
    "                                    TENUREMONTHS, \\\n",
    "                                    MONTHLYCHARGES,  \\\n",
    "                                    TOTALCHARGES)) as Churn_prediction \\\n",
    "                                    from train_dataset sample (10 rows)').show()"
   ]
  },
  {
   "cell_type": "code",
   "execution_count": null,
   "id": "42769e72",
   "metadata": {},
   "outputs": [],
   "source": [
    "session.close()"
   ]
  },
  {
   "cell_type": "code",
   "execution_count": null,
   "id": "3def27e9",
   "metadata": {},
   "outputs": [],
   "source": []
  }
 ],
 "metadata": {
  "kernelspec": {
   "display_name": "getting_started_snowpark_python",
   "language": "python",
   "name": "getting_started_snowpark_python"
  },
  "language_info": {
   "codemirror_mode": {
    "name": "ipython",
    "version": 3
   },
   "file_extension": ".py",
   "mimetype": "text/x-python",
   "name": "python",
   "nbconvert_exporter": "python",
   "pygments_lexer": "ipython3",
   "version": "3.8.13"
  }
 },
 "nbformat": 4,
 "nbformat_minor": 5
}
